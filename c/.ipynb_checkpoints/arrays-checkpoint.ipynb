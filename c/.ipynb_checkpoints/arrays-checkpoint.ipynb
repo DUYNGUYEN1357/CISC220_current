{
 "cells": [
  {
   "cell_type": "markdown",
   "id": "ce23f8ea",
   "metadata": {},
   "source": [
    "# Arrays\n",
    "\n",
    "Arrays in C have many similarities to arrays in Java:\n",
    "\n",
    "* contiguous sequence of objects all having the same type\n",
    "* the capacity (maximum number of elements) never changes during the array lifetime\n",
    "* characterized by their element type\n",
    "* use square brackets to access individual elements\n",
    "\n",
    "and some differences:\n",
    "\n",
    "* variables of array type cannot be assigned to (but elements of the array can be assigned to)\n",
    "* the capacity of the array (if known) can be part of the declaration\n",
    "* **there is no index bounds checking**\n",
    "* an array degrades to a pointer to the element type when the array is passed to a function\n",
    "* it is impossible to return an array from a function\n"
   ]
  },
  {
   "cell_type": "markdown",
   "id": "1782082c",
   "metadata": {},
   "source": [
    "#### Declaring and initializing an array\n",
    "\n",
    "An array of constant known size can be created as shown in the example below:"
   ]
  },
  {
   "cell_type": "code",
   "execution_count": 1,
   "id": "04520039",
   "metadata": {},
   "outputs": [
    {
     "name": "stdout",
     "output_type": "stream",
     "text": [
      "1\n",
      "2\n",
      "3\n"
     ]
    }
   ],
   "source": [
    "#include <stdio.h>\n",
    "\n",
    "int main(void) {\n",
    "    int x[3];       // an array of 3 ints, elements are not initialized\n",
    "    x[0] = 1;\n",
    "    x[1] = 2;\n",
    "    x[2] = 3;\n",
    "\n",
    "    for (int i = 0; i < 3; i++) {\n",
    "        printf(\"%d\\n\", x[i]);\n",
    "    }\n",
    "}"
   ]
  },
  {
   "cell_type": "markdown",
   "id": "d389135c",
   "metadata": {},
   "source": [
    "The elements of an array are not initialized to any particular value. Whatever values happen to be in the\n",
    "memory occupied by the array are interpreted as elements of the array:"
   ]
  },
  {
   "cell_type": "code",
   "execution_count": 9,
   "id": "cd6f668a",
   "metadata": {},
   "outputs": [
    {
     "name": "stdout",
     "output_type": "stream",
     "text": [
      "1166926654\n",
      "0\n",
      "0\n"
     ]
    }
   ],
   "source": [
    "#include <stdio.h>\n",
    "\n",
    "int main(void) {\n",
    "    int x[3];       // an array of 3 ints, elements are not initialized\n",
    "\n",
    "    for (int i = 0; i < 3; i++) {\n",
    "        printf(\"%d\\n\", x[i]);\n",
    "    }\n",
    "}"
   ]
  },
  {
   "cell_type": "markdown",
   "id": "45c5bb24",
   "metadata": {},
   "source": [
    "An initialization list can be used to initialize the elements (and possibly capacity) at the point where\n",
    "the array is declared:"
   ]
  },
  {
   "cell_type": "code",
   "execution_count": 3,
   "id": "af0478a1",
   "metadata": {},
   "outputs": [
    {
     "name": "stdout",
     "output_type": "stream",
     "text": [
      "1\n",
      "2\n",
      "3\n"
     ]
    }
   ],
   "source": [
    "#include <stdio.h>\n",
    "\n",
    "int main(void) {\n",
    "    int x[] = {1, 2, 3};     // initializes an array of capacity 3\n",
    "\n",
    "    for (int i = 0; i < 3; i++) {\n",
    "        printf(\"%d\\n\", x[i]);\n",
    "    }\n",
    "}"
   ]
  },
  {
   "cell_type": "markdown",
   "id": "8dc78994",
   "metadata": {},
   "source": [
    "It is an error to provide more initializers than the capacity of the array:"
   ]
  },
  {
   "cell_type": "code",
   "execution_count": 4,
   "id": "364fc5f8",
   "metadata": {},
   "outputs": [
    {
     "name": "stderr",
     "output_type": "stream",
     "text": [
      "/tmp/tmpy299zs6f.c: In function ‘main’:\n",
      "/tmp/tmpy299zs6f.c:4:26: warning: excess elements in array initializer\n",
      "    4 |     int x[3] = {1, 2, 3, 4, 5};     // error, too many initializers\n",
      "      |                          ^\n",
      "/tmp/tmpy299zs6f.c:4:26: note: (near initialization for ‘x’)\n",
      "/tmp/tmpy299zs6f.c:4:29: warning: excess elements in array initializer\n",
      "    4 |     int x[3] = {1, 2, 3, 4, 5};     // error, too many initializers\n",
      "      |                             ^\n",
      "/tmp/tmpy299zs6f.c:4:29: note: (near initialization for ‘x’)\n",
      "/tmp/tmpy299zs6f.c:4:9: warning: unused variable ‘x’ [-Wunused-variable]\n",
      "    4 |     int x[3] = {1, 2, 3, 4, 5};     // error, too many initializers\n",
      "      |         ^\n"
     ]
    }
   ],
   "source": [
    "#include <stdio.h>\n",
    "\n",
    "int main(void) {\n",
    "    int x[3] = {1, 2, 3, 4, 5};     // error, too many initializers\n",
    "}"
   ]
  },
  {
   "cell_type": "markdown",
   "id": "db744c62",
   "metadata": {},
   "source": [
    "If fewer initializers than the capacity of the array are used then the remaining elements of the array are\n",
    "left uninitialized:"
   ]
  },
  {
   "cell_type": "code",
   "execution_count": 10,
   "id": "6e8c227f",
   "metadata": {},
   "outputs": [
    {
     "name": "stdout",
     "output_type": "stream",
     "text": [
      "3\n",
      "470608128\n",
      "496798566\n"
     ]
    }
   ],
   "source": [
    "#include <stdio.h>\n",
    "\n",
    "int main(void) {\n",
    "    int x[] = {3};     // x[0] == 3, remaining elements uninitialzed\n",
    "\n",
    "    for (int i = 0; i < 3; i++) {\n",
    "        printf(\"%d\\n\", x[i]);\n",
    "    }\n",
    "}"
   ]
  },
  {
   "cell_type": "markdown",
   "id": "43868f58",
   "metadata": {},
   "source": [
    "When using an initializer list, it is possible to specify the indexes of the array to initialize using\n",
    "*designators*. See https://en.cppreference.com/w/c/language/array_initialization for details."
   ]
  },
  {
   "cell_type": "markdown",
   "id": "aa67e852",
   "metadata": {},
   "source": [
    "#### Strings are array of `char`\n",
    "\n",
    "A string is an array of `char` terminated with the null character `'\\0'`. String literals may be used to \n",
    "initialize an array of `char`:"
   ]
  },
  {
   "cell_type": "code",
   "execution_count": 11,
   "id": "bb6eee6a",
   "metadata": {},
   "outputs": [
    {
     "name": "stdout",
     "output_type": "stream",
     "text": [
      "CISC220\n"
     ]
    }
   ],
   "source": [
    "#include <stdio.h>\n",
    "#include <string.h>\n",
    "\n",
    "int main(void) {\n",
    "    char str[] = \"CISC220\";\n",
    "    printf(\"%s\\n\", str);\n",
    "}"
   ]
  },
  {
   "cell_type": "markdown",
   "id": "f25690f5",
   "metadata": {},
   "source": [
    "# Assignment to an array variable is not allowed\n",
    "\n",
    "An array variable can not be assigned to."
   ]
  },
  {
   "cell_type": "code",
   "execution_count": 12,
   "id": "44d38136",
   "metadata": {},
   "outputs": [
    {
     "name": "stderr",
     "output_type": "stream",
     "text": [
      "/tmp/tmpz36z7424.c: In function ‘main’:\n",
      "/tmp/tmpz36z7424.c:7:7: error: assignment to expression with array type\n",
      "    7 |     x = y;\n",
      "      |       ^\n",
      "/tmp/tmpz36z7424.c:4:9: warning: variable ‘x’ set but not used [-Wunused-but-set-variable]\n",
      "    4 |     int x[] = {1, 2, 3};\n",
      "      |         ^\n",
      "[C kernel] GCC exited with code 1, the executable will not be executed"
     ]
    }
   ],
   "source": [
    "#include <stdio.h>\n",
    "\n",
    "int main(void) {\n",
    "    int x[] = {1, 2, 3};\n",
    "    int y[] = {10, 11, 12};\n",
    "    \n",
    "    x = y;\n",
    "}"
   ]
  },
  {
   "cell_type": "markdown",
   "id": "1d136949",
   "metadata": {},
   "source": [
    "Strings are arrays; thus, string assignment is also not allowed:"
   ]
  },
  {
   "cell_type": "code",
   "execution_count": 14,
   "id": "f32b35ed",
   "metadata": {},
   "outputs": [
    {
     "name": "stderr",
     "output_type": "stream",
     "text": [
      "/tmp/tmp8yx1gjtb.c: In function ‘main’:\n",
      "/tmp/tmp8yx1gjtb.c:7:10: error: assignment to expression with array type\n",
      "    7 |     str1 = str2;\n",
      "      |          ^\n",
      "/tmp/tmp8yx1gjtb.c:4:10: warning: variable ‘str1’ set but not used [-Wunused-but-set-variable]\n",
      "    4 |     char str1[] = \"Hello\";\n",
      "      |          ^~~~\n",
      "[C kernel] GCC exited with code 1, the executable will not be executed"
     ]
    }
   ],
   "source": [
    "#include <stdio.h>\n",
    "\n",
    "int main(void) {\n",
    "    char str1[] = \"Hello\";\n",
    "    char str2[] = \"Goodbye\";\n",
    "    \n",
    "    str1 = str2;\n",
    "}"
   ]
  },
  {
   "cell_type": "markdown",
   "id": "63b3460b",
   "metadata": {},
   "source": [
    "Instead of performing array assignment, the programmer must copy the elements from the source array into the\n",
    "target array. A loop can be used:"
   ]
  },
  {
   "cell_type": "code",
   "execution_count": 15,
   "id": "3f7bc3ca",
   "metadata": {},
   "outputs": [
    {
     "name": "stdout",
     "output_type": "stream",
     "text": [
      "10\n",
      "11\n",
      "12\n"
     ]
    }
   ],
   "source": [
    "#include <stdio.h>\n",
    "\n",
    "int main(void) {\n",
    "    int x[] = {1, 2, 3};\n",
    "    int y[] = {10, 11, 12};\n",
    "    \n",
    "    for (int i = 0; i < 3; i++) {\n",
    "        x[i] = y[i];\n",
    "    }\n",
    "    for (int i = 0; i < 3; i++) {\n",
    "        printf(\"%d\\n\", x[i]);\n",
    "    }\n",
    "}"
   ]
  },
  {
   "cell_type": "markdown",
   "id": "251ebc5c",
   "metadata": {},
   "source": [
    "However, it is easier to use a library function to perform the copying (covered in a separate notebook)."
   ]
  },
  {
   "cell_type": "markdown",
   "id": "1a3d0ad8",
   "metadata": {},
   "source": [
    "# Array-pointer duality\n",
    "\n",
    "The name of an array is synonymous with a pointer to the first element of the array. This means that we \n",
    "can do something that looks like assigning an array to a pointer:"
   ]
  },
  {
   "cell_type": "code",
   "execution_count": 19,
   "id": "410a757f",
   "metadata": {},
   "outputs": [
    {
     "name": "stdout",
     "output_type": "stream",
     "text": [
      "CISC220\n",
      "C\n"
     ]
    }
   ],
   "source": [
    "#include <stdio.h>\n",
    "#include <string.h>\n",
    "\n",
    "int main(void) {\n",
    "    char str[] = \"CISC220\";\n",
    "    char *p;\n",
    "    p = str;\n",
    "    \n",
    "    // dereference p\n",
    "    char c = *p;\n",
    "\n",
    "    printf(\"%s\\n\", p);\n",
    "    printf(\"%c\\n\", c);\n",
    "}"
   ]
  },
  {
   "cell_type": "markdown",
   "id": "79ffb795",
   "metadata": {},
   "source": [
    "\n",
    "the subscript operator is synonymous with pointer addition followed by dereferencing"
   ]
  }
 ],
 "metadata": {
  "kernelspec": {
   "display_name": "C",
   "language": "c",
   "name": "c"
  },
  "language_info": {
   "file_extension": ".c",
   "mimetype": "text/x-csrc",
   "name": "text/x-csrc"
  }
 },
 "nbformat": 4,
 "nbformat_minor": 5
}
