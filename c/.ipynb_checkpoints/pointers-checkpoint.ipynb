{
 "cells": [
  {
   "cell_type": "markdown",
   "id": "51c8f89f",
   "metadata": {},
   "source": [
    "# Pointers\n",
    "\n",
    "A pointer is an object that stores the address of another object. If `T` is some type, then `T *` is a pointer that\n",
    "can store the address an object of type `T`. Consider the following example:\n",
    "\n",
    "```c\n",
    "int *ptr;\n",
    "```\n",
    "\n",
    "`ptr` is a pointer object that can store the address an object of type `int`. Most programmers would say that\n",
    "`ptr` is a pointer to `int`.\n",
    "\n",
    "There is no universally agreed on style for declaring pointer variables. Each of the following are legal\n",
    "ways of declaring a pointer:\n",
    "\n",
    "```c\n",
    "int *ptr1;\n",
    "int* ptr2;\n",
    "int * ptr3;\n",
    "```\n",
    "\n",
    "> A pointer references a location in memory, and obtaining the value stored at that location is known as dereferencing the pointer. As an analogy, a page number in a book's index could be considered a pointer to the corresponding page; dereferencing such a pointer would be done by flipping to the page with the given page number and reading the text found on that page."
   ]
  },
  {
   "cell_type": "markdown",
   "id": "f8e78487",
   "metadata": {},
   "source": [
    "#### `NULL`\n",
    "\n",
    "The name `NULL` defined in the header `<stddef.h>` means \"no object\". Any pointer variable can be assigned \n",
    "a value of `NULL`:\n",
    "\n",
    "```c\n",
    "#include <stddef.h>\n",
    "\n",
    "int *ptr = NULL;\n",
    "```\n",
    "\n"
   ]
  },
  {
   "cell_type": "markdown",
   "id": "6e56383d",
   "metadata": {},
   "source": [
    "#### A pointer should refer to an object\n",
    "\n",
    "A pointer stores the address of an object but how does the programmer obtain the address of an object?\n",
    "The *address of* operator `&` creates a pointer that refers to an object:\n",
    "\n",
    "```c\n",
    "int a = 99;\n",
    "int *ptr = &a;\n",
    "```\n",
    "\n",
    "In the example above, `&a` yields a pointer to the `int` stored in the variable `a`, and that pointer\n",
    "is then assigned to the variable `ptr`.\n",
    "\n",
    "`ptr` can store a pointer to any `int` object so it is perfectly legal to re-assign which object is pointed at:\n",
    "\n",
    "\n",
    "```c\n",
    "int a = 99;\n",
    "int *ptr = &a;\n",
    "\n",
    "int b = 55;\n",
    "ptr = &b;\n",
    "```\n"
   ]
  },
  {
   "cell_type": "markdown",
   "id": "00b5c133",
   "metadata": {},
   "source": [
    "#### Obtaining the value that the pointer refers to\n",
    "\n",
    "The *pointer dereference* operator `*` dereferences a pointer to access the object that the pointer refers to:\n",
    "\n",
    "```c\n",
    "int a = 99;\n",
    "int *ptr = &a;\n",
    "int b = *ptr + 1;\n",
    "```\n",
    "\n"
   ]
  },
  {
   "cell_type": "code",
   "execution_count": 1,
   "id": "49771302",
   "metadata": {},
   "outputs": [
    {
     "name": "stdout",
     "output_type": "stream",
     "text": [
      "a = 99\n",
      "b = 100\n"
     ]
    }
   ],
   "source": [
    "#include <stdio.h>\n",
    "\n",
    "int main(void) {\n",
    "    int a = 99;\n",
    "    int *ptr = &a;        // ptr refers to a\n",
    "    int b = *ptr + 1      // b = a + 1\n",
    "        \n",
    "    printf(\"a = %d\\n\", a);\n",
    "    printf(\"b = %d\\n\", b);\n",
    "}"
   ]
  },
  {
   "cell_type": "markdown",
   "id": "fb769fe9",
   "metadata": {},
   "source": [
    "A value can be assigned to the object obtained via pointer dereferencing:"
   ]
  },
  {
   "cell_type": "code",
   "execution_count": 2,
   "id": "62907a25",
   "metadata": {},
   "outputs": [
    {
     "name": "stdout",
     "output_type": "stream",
     "text": [
      "a = -33\n"
     ]
    }
   ],
   "source": [
    "#include <stdio.h>\n",
    "\n",
    "int main(void) {\n",
    "    int a = 99;\n",
    "    int *ptr = &a;        // ptr refers to a\n",
    "    *ptr = -33;           // assigns -33 to a\n",
    "        \n",
    "    printf(\"a = %d\\n\", a);\n",
    "}"
   ]
  },
  {
   "cell_type": "markdown",
   "id": "00f7a2c2",
   "metadata": {},
   "source": [
    "Undefined behavior results if a null pointer is dereferenced:"
   ]
  },
  {
   "cell_type": "code",
   "execution_count": 4,
   "id": "eab69441",
   "metadata": {},
   "outputs": [
    {
     "name": "stderr",
     "output_type": "stream",
     "text": [
      "[C kernel] Executable exited with code -11"
     ]
    }
   ],
   "source": [
    "#include <stdio.h>\n",
    "\n",
    "int main(void) {\n",
    "    int *ptr = NULL;\n",
    "    *ptr = -33;           // oops, null pointer dereference\n",
    "        \n",
    "    printf(\"a = %d\\n\", *ptr);\n",
    "}"
   ]
  },
  {
   "cell_type": "markdown",
   "id": "061cf351",
   "metadata": {},
   "source": [
    "# Using pointers to solve a common programming problem\n",
    "\n",
    "A common programming problem is writing a function to change the value of one of its parameters. A simple\n",
    "example is a function that swaps the values its two parameters. A first attempt at such a function might\n",
    "look like so:"
   ]
  },
  {
   "cell_type": "code",
   "execution_count": 5,
   "id": "79cfac6d",
   "metadata": {},
   "outputs": [
    {
     "name": "stdout",
     "output_type": "stream",
     "text": [
      "before calling swap: a = 1.500000, b = 99.900000\n",
      "inside swap: x = 99.900000, y = 1.500000\n",
      "before calling swap: a = 1.500000, b = 99.900000\n"
     ]
    }
   ],
   "source": [
    "#include <stdio.h>\n",
    "\n",
    "void swap(double x, double y) {\n",
    "    double tmp = x;\n",
    "    x = y;\n",
    "    y = tmp;\n",
    "    printf(\"inside swap: x = %f, y = %f\\n\", x, y);\n",
    "}\n",
    "\n",
    "int main(void) {\n",
    "    double a = 1.5;\n",
    "    double b = 99.9;\n",
    "    \n",
    "    printf(\"before calling swap: a = %f, b = %f\\n\", a, b);\n",
    "    swap(a, b);\n",
    "    printf(\"before calling swap: a = %f, b = %f\\n\", a, b);\n",
    "}"
   ]
  },
  {
   "cell_type": "markdown",
   "id": "dc6a2b74",
   "metadata": {},
   "source": [
    "Running the example above illustrates that the `swap` function manages to swap the values of the parameters\n",
    "`x` and `y` but does not swap the values of the arguments `a` and `b`. The "
   ]
  }
 ],
 "metadata": {
  "kernelspec": {
   "display_name": "C",
   "language": "c",
   "name": "c"
  },
  "language_info": {
   "file_extension": ".c",
   "mimetype": "text/x-csrc",
   "name": "text/x-csrc"
  }
 },
 "nbformat": 4,
 "nbformat_minor": 5
}
