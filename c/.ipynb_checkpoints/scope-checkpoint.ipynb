{
 "cells": [
  {
   "cell_type": "markdown",
   "id": "c87fdab3",
   "metadata": {},
   "source": [
    "# Scope and lifetime of objects\n",
    "\n",
    "The contiguous region of the program where an identifier (name) can be accessed is called the *scope* of the identifier. C and Java share similarities in that blocks determine the scope of identifiers, but there are\n",
    "different kinds of scope in the two languages.\n",
    "\n",
    "The lifetime of an object determines when it is valid to use the object. In Java, the programmer usually is\n",
    "not concerned about object lifetime because the language uses garbage collection to release memory used by\n",
    "objects that can no longer be accessed. Furthermore, there are no pointers in Java which means that it is\n",
    "usually impossible to obtain a reference to a \"dead\" object. In C, the existance of pointers and the ability\n",
    "to dynamically allocate and deallocate memory means that the programmer must always be aware of object lifetime\n",
    "issues.\n",
    "\n",
    "This notebook mentions the term *linkage*. See the *Linkage* notebook for details."
   ]
  },
  {
   "cell_type": "markdown",
   "id": "ff4249ff",
   "metadata": {},
   "source": [
    "## Scope\n",
    "\n",
    "There are four kinds of scope in C:\n",
    "\n",
    "* file scope\n",
    "* block scope\n",
    "* function prototype scope\n",
    "* function scope\n",
    "\n",
    "Function scope is relevant only to labels declared inside of a function and is not discussed in this notebook."
   ]
  },
  {
   "cell_type": "markdown",
   "id": "926be11f",
   "metadata": {},
   "source": [
    "#### File scope\n",
    "\n",
    "If an identifier is declared outside of any block or parameter list then it has *file scope*. The identifier\n",
    "is usable at the point of declaration and ends at the end of the translation unit. Furthermore, other\n",
    "translation units may be able to link to such an identifier if the identifier has external linkage.\n",
    "\n",
    "The following program has three identifiers with file scope:\n",
    "\n",
    "1. the variable `j`\n",
    "2. the function `f`\n",
    "3. the function `main`"
   ]
  },
  {
   "cell_type": "code",
   "execution_count": 1,
   "id": "08f93198",
   "metadata": {},
   "outputs": [
    {
     "name": "stdout",
     "output_type": "stream",
     "text": [
      "main: j = 0\n",
      "\tfunc: i = 101, j = 1\n",
      "\t\tfor loop, i = 0, j = 2\n",
      "\t\tfor loop, i = 1, j = 2\n",
      "\tfunc: i = 101, j = 1\n",
      "main: j = 0\n"
     ]
    }
   ],
   "source": [
    "// scope.c\n",
    "\n",
    "#include <stdio.h>\n",
    "\n",
    "int j;                                                       // j has file scope\n",
    "\n",
    "void f(int i) {                                              // f has file scope\n",
    "    int j = 1;\n",
    "    i++;\n",
    "    printf(\"\\tfunc: i = %d, j = %d\\n\", i, j);\n",
    "    for (int i = 0; i < 2; i++) {\n",
    "        int j = 2;\n",
    "        printf(\"\\t\\tfor loop, i = %d, j = %d\\n\", i, j);\n",
    "    }\n",
    "    printf(\"\\tfunc: i = %d, j = %d\\n\", i, j);\n",
    "}\n",
    "\n",
    "int main(void) {                                             // main has file scope\n",
    "    printf(\"main: j = %d\\n\", j);\n",
    "    f(100);\n",
    "    printf(\"main: j = %d\\n\", j);\n",
    "\n",
    "    return 0;\n",
    "}\n"
   ]
  },
  {
   "cell_type": "markdown",
   "id": "d740ad55",
   "metadata": {},
   "source": [
    "#### Block scope\n",
    "\n",
    "Braces `{ }` denote blocks of code (similar to Java).\n",
    "If an identifier is declared inside of a block or in a parameter list, then the identifier has *block scope*.\n",
    "The identifier is accessible everywhere in the block it is declared in after the point where it is declared.\n",
    "\n",
    "Blocks appear inside of files and inside of other blocks which causes their scopes to be nested.\n",
    "It is legal, but often confusing, to declare identifiers with the same name in different scopes.\n",
    "An identifier declared at an inner scope takes precedence over an identifier declared at an outer\n",
    "scope. We say that the other scope identifier is *hidden* at the inner scope."
   ]
  },
  {
   "cell_type": "code",
   "execution_count": null,
   "id": "62f780af",
   "metadata": {},
   "outputs": [],
   "source": []
  },
  {
   "cell_type": "markdown",
   "id": "5604825f",
   "metadata": {},
   "source": [
    "#### Function prototype scope\n",
    "\n",
    "If a function is declared, but not defined, then the parameters of the declared function have\n",
    "*function prototype scope*. "
   ]
  },
  {
   "cell_type": "code",
   "execution_count": 2,
   "id": "ed27729e",
   "metadata": {},
   "outputs": [],
   "source": [
    "// function prototype\n",
    "// parameter a has function prototype scope\n",
    "void some_function(int a);  "
   ]
  },
  {
   "cell_type": "markdown",
   "id": "d404fbd3",
   "metadata": {},
   "source": [
    "Usually, function prototype scope is not very interesting but it can affect the order in\n",
    "which the parameters must appear. The following prototype is correct:"
   ]
  },
  {
   "cell_type": "code",
   "execution_count": 3,
   "id": "6062c826",
   "metadata": {},
   "outputs": [],
   "source": [
    "// function prototype\n",
    "// parameters n and a have function prototype scope\n",
    "void another_function(int n, int a[n]);  "
   ]
  },
  {
   "cell_type": "markdown",
   "id": "a8151204",
   "metadata": {},
   "source": [
    "The following prototype is incorrect because the parameter `n` is used before it comes into scope:"
   ]
  },
  {
   "cell_type": "code",
   "execution_count": 4,
   "id": "62c28a65",
   "metadata": {},
   "outputs": [
    {
     "name": "stderr",
     "output_type": "stream",
     "text": [
      "/tmp/tmpk_iip2ju.c: In function ‘main’:\n",
      "/tmp/tmpk_iip2ju.c:6:34: error: ‘n’ undeclared (first use in this function)\n",
      "    6 | void an_incorrect_function(int a[n], int n);\n",
      "      |                                  ^\n",
      "/tmp/tmpk_iip2ju.c:6:34: note: each undeclared identifier is reported only once for each function it appears in\n",
      "[C kernel] GCC exited with code 1, the executable will not be executed"
     ]
    }
   ],
   "source": [
    "// function prototype\n",
    "// parameters n and a have function prototype scope\n",
    "// error because n is used before it is in scope\n",
    "void an_incorrect_function(int a[n], int n);  "
   ]
  },
  {
   "cell_type": "markdown",
   "id": "790cafb2",
   "metadata": {},
   "source": [
    "## Lifetime\n",
    "\n",
    "The lifetime of an object is determined by its *storage duration*. There are four kinds of storage duration in C:\n",
    "\n",
    "1. automatic\n",
    "2. static\n",
    "3. allocated\n",
    "4. thread\n",
    "\n",
    "Thread storage duration is not covered in CISC220 but may be relevant in CISC324 Operating Systems."
   ]
  },
  {
   "cell_type": "markdown",
   "id": "44cb141a",
   "metadata": {},
   "source": [
    "#### Automatic storage duration\n",
    "\n",
    "Automatic storage duration is the default storage duration of an object declared within a block or as a function\n",
    "parameter. Memory for the object is allocated when the block in which the object was declared is entered\n",
    "and deallocated when the block is exited by any means."
   ]
  },
  {
   "cell_type": "code",
   "execution_count": null,
   "id": "b8d3edd3",
   "metadata": {},
   "outputs": [],
   "source": []
  }
 ],
 "metadata": {
  "kernelspec": {
   "display_name": "C",
   "language": "c",
   "name": "c"
  },
  "language_info": {
   "file_extension": ".c",
   "mimetype": "text/x-csrc",
   "name": "text/x-csrc"
  }
 },
 "nbformat": 4,
 "nbformat_minor": 5
}
