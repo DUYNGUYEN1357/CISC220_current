{
 "cells": [
  {
   "cell_type": "markdown",
   "id": "6931822b",
   "metadata": {},
   "source": [
    "# Types\n",
    "\n",
    "<div class=\"alert alert-block alert-info\">\n",
    "    You can find all of the C programs in this notebook in the subdirectory containing this notebook:\n",
    "    <code>./src/types</code>\n",
    "</div>\n",
    "\n",
    "This notebook provides a quick overview of some of the main types in C. More detailed information about\n",
    "particular types can be found in other notebooks."
   ]
  },
  {
   "cell_type": "markdown",
   "id": "96dd3124",
   "metadata": {},
   "source": [
    "## The integer types\n",
    "\n",
    "The following table lists the integer types and their minimum width in bits:\n",
    "\n",
    "| Recommended name | Width in bits |\n",
    "| :--- | :--- |\n",
    "| `bool` (requires `<stdbool.h>`) | at least 8 |\n",
    "| `signed char` | at least 8 |\n",
    "| `unsigned char` | at least 8 |\n",
    "| `char` | at least 8 |\n",
    "| `short int` | at least 16 |\n",
    "| `unsigned short int` | at least 16 |\n",
    "| `int` | at least 16 |\n",
    "| `unsigned int` | at least 16 |\n",
    "| `long int` | at least 32 |\n",
    "| `unsigned long int` | at least 32 |\n",
    "| `long long int` | at least 64 |\n",
    "| `unsigned long long int` | at least 64 |\n",
    "\n",
    "Notice that the exact size of the integer types is not specified by the C standard. The standard states that\n",
    "the size of a `char` is equal to the smallest addressable unit of the machine, which is usually 8 bits.\n",
    "The smallest addressable unit of the machine is called a *byte*.\n",
    "\n",
    "The sizes of all other types (including non-integer types) is measured in integer multiples of the size\n",
    "of a `char`. The `sizeof` operator returns the size of an object or type:"
   ]
  },
  {
   "cell_type": "code",
   "execution_count": null,
   "id": "4888f9d9",
   "metadata": {},
   "outputs": [],
   "source": [
    "// sizeof.c\n",
    "\n",
    "#include <stdio.h>\n",
    "#include <stdbool.h>\n",
    "\n",
    "int main(void) {\n",
    "    printf(\"char      : %ld\\n\", sizeof(char));\n",
    "    printf(\"bool      : %ld\\n\", sizeof(bool));\n",
    "    printf(\"short int : %ld\\n\", sizeof(short int));\n",
    "    printf(\"int       : %ld\\n\", sizeof(int));\n",
    "    printf(\"long int  : %ld\\n\", sizeof(long int));\n",
    "    printf(\"float     : %ld\\n\", sizeof(float));\n",
    "    printf(\"double    : %ld\\n\", sizeof(double));\n",
    "    printf(\"char *    : %ld\\n\", sizeof(char *));\n",
    "    printf(\"double *  : %ld\\n\", sizeof(double *));\n",
    "    return 0;\n",
    "}"
   ]
  },
  {
   "cell_type": "markdown",
   "id": "3db7b47a",
   "metadata": {},
   "source": [
    "#### `bool`\n",
    "\n",
    "C99 introduced the Boolean type `_Bool` that stores only the value `0` or `1` (false and true).\n",
    "Assigning any non-zero value to a `_Bool` causes the value to become `1`. \n",
    "If you include the header `<stdbool.h>` then you can use the type name `bool` and the values `false` and `true`. "
   ]
  },
  {
   "cell_type": "code",
   "execution_count": null,
   "id": "68c3e4e2",
   "metadata": {},
   "outputs": [],
   "source": [
    "// boo.c\n",
    "\n",
    "#include <stdbool.h>\n",
    "#include <stdio.h>\n",
    "\n",
    "int main(void) {\n",
    "    bool flag = true;          // or any non-zero value\n",
    "    if (flag) {\n",
    "        puts(\"true\");\n",
    "    }\n",
    "    else {\n",
    "        puts(\"false\");\n",
    "    }\n",
    "    return 0;\n",
    "}"
   ]
  },
  {
   "cell_type": "markdown",
   "id": "e292c526",
   "metadata": {},
   "source": [
    "The `printf` function has no conversion for Boolean values. You can use any of the integer conversions\n",
    "`%d`, `%i`, or `%u`:"
   ]
  },
  {
   "cell_type": "code",
   "execution_count": null,
   "id": "b473b150",
   "metadata": {},
   "outputs": [],
   "source": [
    "// print_boo.c\n",
    "\n",
    "#include <stdbool.h>\n",
    "#include <stdio.h>\n",
    "\n",
    "int main(void) {\n",
    "    bool flag = false;\n",
    "    printf(\"%u\\n\", flag);\n",
    "    return 0;\n",
    "}"
   ]
  },
  {
   "cell_type": "markdown",
   "id": "38dedcec",
   "metadata": {},
   "source": [
    "Alternatively, you can convert the Boolean value to a string and then print the string:"
   ]
  },
  {
   "cell_type": "code",
   "execution_count": null,
   "id": "de0a0f9d",
   "metadata": {},
   "outputs": [],
   "source": [
    "// print_boo2.c\n",
    "\n",
    "#include <stdbool.h>\n",
    "#include <stdio.h>\n",
    "\n",
    "int main(void) {\n",
    "    bool flag = false;\n",
    "    printf(\"%s\\n\", flag ? \"true\" : \"false\");\n",
    "    return 0;\n",
    "}"
   ]
  },
  {
   "cell_type": "markdown",
   "id": "df108915",
   "metadata": {},
   "source": [
    "#### `char`\n",
    "\n",
    "As in Java, `char` is usually used to represent character data. A `char` literal is any single character\n",
    "inside of single quotes. The `printf` conversion `%c` will print a single `char`:"
   ]
  },
  {
   "cell_type": "code",
   "execution_count": null,
   "id": "c3d0cfab",
   "metadata": {},
   "outputs": [],
   "source": [
    "// char.c \n",
    "\n",
    "#include <stdio.h>\n",
    "\n",
    "int main(void) {\n",
    "    char c = 'x';\n",
    "    printf(\"%c\\n\", c);\n",
    "    return 0;\n",
    "}"
   ]
  },
  {
   "cell_type": "markdown",
   "id": "aa0d1dcf",
   "metadata": {},
   "source": [
    "A `char` literal may also be an escape sequence (similar to Java). A table of most of the escape sequences\n",
    "is shown below:\n",
    "\n",
    "| Escape sequence | Description |\n",
    "| :--- | :--- |\n",
    "| `\\'` | single quote |\n",
    "| `\\\"` | double quote |\n",
    "| `\\?` | question mark (needed to suppress trigraphs) |\n",
    "| `\\\\` | backslash |\n",
    "| `\\a` | audible bell |\n",
    "| `\\b` | backspace |\n",
    "| `\\f` | form feed - new page |\n",
    "| `\\n` | line feed - new line |\n",
    "| `\\r` | carriage return |\n",
    "| `\\t` | horizontal tab |\n",
    "| `\\v` | vertical tab |"
   ]
  },
  {
   "cell_type": "markdown",
   "id": "c5b84576",
   "metadata": {},
   "source": [
    "#### enum types\n",
    "\n",
    "C has integer enumerations that allow a programmer to assign names to integer values for representing a set of constant values. C enumerations have no type safety, unlike Java enumerations."
   ]
  },
  {
   "cell_type": "code",
   "execution_count": null,
   "id": "8eeda9b7",
   "metadata": {},
   "outputs": [],
   "source": [
    "// enum.c\n",
    "\n",
    "#include <stdio.h>\n",
    "\n",
    "int main(void) {\n",
    "    enum day { sun, mon, tue, wed, thu, fri, sat};\n",
    "    enum compass { north = 0, east = 90,\n",
    "                   south = 180, west = 270 };\n",
    "    enum month { jan = 1, feb, mar, apr,\n",
    "                 may, jun, jul, aug,\n",
    "                sep, oct, nov, dec};\n",
    "\n",
    "    enum day d = 10;\n",
    "    enum compass dir = south;\n",
    "    enum month m = oct;\n",
    "\n",
    "    printf(\"d   : %d\\n\", d);\n",
    "    printf(\"dir : %d\\n\", dir);\n",
    "    printf(\"m   : %d\\n\", m);\n",
    "\n",
    "    return 0;\n",
    "}"
   ]
  },
  {
   "cell_type": "markdown",
   "id": "c0cbaa26",
   "metadata": {},
   "source": [
    "## `void`\n",
    "\n",
    "On its own, `void` means *cannot hold any value*. It\n",
    "can be used as a function return type to indicate that the function returns no value.\n",
    "It can be used as the sole parameter of a function to indicate that the function takes no arguments.\n",
    "You should always use a `void` parameter when you are declaring a function that accepts no arguments.\n",
    "\n",
    "A `void *` pointer means that the pointer can point to any object. See the *Pointers* notebook for details.\n",
    "\n",
    "`sizeof(void)` is an error."
   ]
  },
  {
   "cell_type": "markdown",
   "id": "961f2c61",
   "metadata": {},
   "source": [
    "## Arrays\n",
    "\n",
    "Arrays in C have many similarities to arrays in Java:\n",
    "\n",
    "* contiguous sequence of objects all having the same type\n",
    "* the capacity (maximum number of elements) never changes during the array lifetime\n",
    "* characterized by their element type\n",
    "* use square brackets to access individual elements\n",
    "\n",
    "and some differences:\n",
    "\n",
    "* variables of array type cannot be assigned to (but elements of the array can be assigned to)\n",
    "* the capacity of the array (if known) can be part of the declaration\n",
    "* **there is no index bounds checking**\n",
    "* an array degrades to a pointer to the element type when the array is passed to a function\n",
    "* it is impossible to return an array from a function\n",
    "\n",
    "An array of constant known size can be created as shown in the example below:"
   ]
  },
  {
   "cell_type": "code",
   "execution_count": null,
   "id": "687be5d5",
   "metadata": {},
   "outputs": [],
   "source": [
    "// arr1.c\n",
    "\n",
    "#include <stdio.h>\n",
    "\n",
    "int main(void) {\n",
    "    int x[3];       // an array of 3 ints, elements are not initialized\n",
    "    x[0] = 1;\n",
    "    x[1] = 2;\n",
    "    x[2] = 3;\n",
    "\n",
    "    for (int i = 0; i < 3; i++) {\n",
    "        printf(\"%d\\n\", x[i]);\n",
    "    }\n",
    "    \n",
    "    return 0;\n",
    "}"
   ]
  },
  {
   "cell_type": "markdown",
   "id": "cfef4d45",
   "metadata": {},
   "source": [
    "`sizeof(arr)` returns the amount of memory (in bytes) that is used by the entire array `arr` which is equal to\n",
    "\n",
    "$$ \\text{array capacity} \\times \\text{sizeof the element type} $$"
   ]
  },
  {
   "cell_type": "code",
   "execution_count": null,
   "id": "dcd2e661",
   "metadata": {},
   "outputs": [],
   "source": [
    "// arr2.c\n",
    "\n",
    "#include <stdio.h>\n",
    "\n",
    "int main(void) {\n",
    "    int x[3];       // an array of 3 ints\n",
    "    x[0] = 1;\n",
    "    x[1] = 2;\n",
    "    x[2] = 3;\n",
    "\n",
    "    printf(\"sizeof(x) : %ld\\n\", sizeof(x));\n",
    "    printf(\"capacity  : %ld\\n\", sizeof(x) / sizeof(int));\n",
    "    \n",
    "    return 0;\n",
    "}"
   ]
  },
  {
   "cell_type": "markdown",
   "id": "fe7684f3",
   "metadata": {},
   "source": [
    "There is no array index bounds checking in C (you are really going to miss the exceptions you get in Java).\n",
    "Using an invalid index causes undefined behavior. If you are lucky, your program will crash. If you are\n",
    "unlucky, then some object gets overwritten and your program continues running."
   ]
  },
  {
   "cell_type": "code",
   "execution_count": null,
   "id": "dac0531e",
   "metadata": {},
   "outputs": [],
   "source": [
    "// arr3.c\n",
    "\n",
    "#include <stdio.h>\n",
    "\n",
    "int main(void) {\n",
    "    int arr1[5] = { -9, -9, -9, -9, -9 };\n",
    "    printf(\"arr1[0]   : %d\\n\", arr1[0]);             // -9\n",
    "    \n",
    "    int x[3];       // an array of 3 ints\n",
    "    \n",
    "    x[0] = 1;\n",
    "    x[1] = 2;\n",
    "    x[2] = 3;\n",
    "    x[3] = 4;       // no error?\n",
    " \n",
    "    printf(\"sizeof(x) : %ld\\n\", sizeof(x));\n",
    "    printf(\"capacity  : %ld\\n\", sizeof(x) / sizeof(int));\n",
    "    \n",
    "    printf(\"arr1[0]   : %d\\n\", arr1[0]);             // not -9 on the author's computer\n",
    "    \n",
    "    return 0;\n",
    "}"
   ]
  },
  {
   "cell_type": "markdown",
   "id": "3e508615",
   "metadata": {},
   "source": [
    "## Strings\n",
    "\n",
    "There is no proper string type in C. Strings are represented as arrays of `char` where the end of the string\n",
    "is marked with the null character constant `'\\0'`. String literals are similar to string literals in Java\n",
    "(a sequence of characters enclosed by double quotes)."
   ]
  },
  {
   "cell_type": "code",
   "execution_count": null,
   "id": "0e09d96e",
   "metadata": {},
   "outputs": [],
   "source": [
    "// str1.c\n",
    "\n",
    "#include <stdio.h>\n",
    "\n",
    "int main(void) {\n",
    "    char str[] = \"CISC220\";\n",
    "    \n",
    "    puts(str);\n",
    "    \n",
    "    return 0;\n",
    "}"
   ]
  },
  {
   "cell_type": "markdown",
   "id": "8edeb803",
   "metadata": {},
   "source": [
    "There is a difference between the length of a string and the capacity of underlying array. The length of a string\n",
    "is equal to the number of characters in the string before the *first* `'\\0'` in the array. The capacity of the array\n",
    "is the maximum number of elements that can be stored in the array."
   ]
  },
  {
   "cell_type": "code",
   "execution_count": null,
   "id": "0a036a04",
   "metadata": {},
   "outputs": [],
   "source": [
    "// str2.c\n",
    "\n",
    "#include <stdio.h>\n",
    "#include <string.h>     // needed for strlen\n",
    "\n",
    "int main(void) {\n",
    "    char str[100] = \"CISC220\";\n",
    "    \n",
    "    printf(\"capacity      : %ld\\n\", sizeof(str) / sizeof(char));\n",
    "    printf(\"string length : %ld\\n\", strlen(str));\n",
    "    \n",
    "    return 0;\n",
    "}"
   ]
  },
  {
   "cell_type": "markdown",
   "id": "d276e1d7",
   "metadata": {},
   "source": [
    "Notice that the length of a string does not include the terminating `'\\0'`.\n",
    "\n",
    "Because strings are simply arrays, it is possible to incorrectly create a string omitting the terminating\n",
    "`'\\0'`. For example:"
   ]
  },
  {
   "cell_type": "code",
   "execution_count": null,
   "id": "b5eab90f",
   "metadata": {},
   "outputs": [],
   "source": [
    "// str3.c\n",
    "\n",
    "#include <stdlib.h>     // needed for malloc\n",
    "#include <stdio.h>\n",
    "#include <string.h>     // needed for strlen\n",
    "\n",
    "int main(void) {\n",
    "    char *str = malloc(1);    // dynamically allocate memory for 1 char\n",
    "    str[0] = 'C';\n",
    "    \n",
    "    printf(\"string length : %ld\\n\", strlen(str));\n",
    "    \n",
    "    return 0;\n",
    "}"
   ]
  },
  {
   "cell_type": "code",
   "execution_count": null,
   "id": "67673210",
   "metadata": {},
   "outputs": [],
   "source": []
  }
 ],
 "metadata": {
  "kernelspec": {
   "display_name": "C",
   "language": "c",
   "name": "c"
  },
  "language_info": {
   "file_extension": ".c",
   "mimetype": "text/x-csrc",
   "name": "text/x-csrc"
  }
 },
 "nbformat": 4,
 "nbformat_minor": 5
}
