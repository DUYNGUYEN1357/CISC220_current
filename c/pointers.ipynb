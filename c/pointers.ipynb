{
 "cells": [
  {
   "cell_type": "markdown",
   "id": "51c8f89f",
   "metadata": {},
   "source": [
    "# Pointers\n",
    "\n",
    "A pointer is an object that stores the address of another object. If `T` is some type, then `T *` is a pointer that\n",
    "can store the address an object of type `T`. Consider the following example:\n",
    "\n",
    "```c\n",
    "int *ptr;\n",
    "```\n",
    "\n",
    "`ptr` is a pointer object that can store the address an object of type `int`. Most programmers would say that\n",
    "`ptr` is a pointer to `int`.\n",
    "\n",
    "There is no universally agreed on style for declaring pointer variables. Each of the following are legal\n",
    "ways of declaring a pointer:\n",
    "\n",
    "```c\n",
    "int *ptr1;\n",
    "int* ptr2;\n",
    "int * ptr3;\n",
    "```\n",
    "\n",
    "> A pointer references a location in memory, and obtaining the value stored at that location is known as dereferencing the pointer. As an analogy, a page number in a book's index could be considered a pointer to the corresponding page; dereferencing such a pointer would be done by flipping to the page with the given page number and reading the text found on that page."
   ]
  },
  {
   "cell_type": "markdown",
   "id": "f8e78487",
   "metadata": {},
   "source": [
    "#### `NULL`\n",
    "\n",
    "The name `NULL` defined in the header `<stddef.h>` means \"no object\". Any pointer variable can be assigned \n",
    "a value of `NULL`:\n",
    "\n",
    "```c\n",
    "#include <stddef.h>\n",
    "\n",
    "int *ptr = NULL;\n",
    "```\n",
    "\n"
   ]
  },
  {
   "cell_type": "markdown",
   "id": "6e56383d",
   "metadata": {},
   "source": [
    "#### A pointer should refer to an object\n",
    "\n",
    "A pointer stores the address of an object but how does the programmer obtain the address of an object?\n",
    "The *address of* operator `&` creates a pointer that refers to an object:\n",
    "\n",
    "```c\n",
    "int a = 99;\n",
    "int *ptr = &a;\n",
    "```\n",
    "\n",
    "In the example above, `&a` yields a pointer to the `int` stored in the variable `a`, and that pointer\n",
    "is then assigned to the variable `ptr`.\n",
    "\n",
    "`ptr` can store a pointer to any `int` object so it is perfectly legal to re-assign which object is pointed at:\n",
    "\n",
    "\n",
    "```c\n",
    "int a = 99;\n",
    "int *ptr = &a;\n",
    "\n",
    "int b = 55;\n",
    "ptr = &b;\n",
    "```\n"
   ]
  },
  {
   "cell_type": "markdown",
   "id": "00b5c133",
   "metadata": {},
   "source": [
    "#### Obtaining the value that the pointer refers to\n",
    "\n",
    "The *pointer dereference* operator `*` dereferences a pointer to access the object that the pointer refers to:\n",
    "\n",
    "```c\n",
    "int a = 99;\n",
    "int *ptr = &a;\n",
    "int b = *ptr + 1;\n",
    "```\n",
    "\n"
   ]
  },
  {
   "cell_type": "code",
   "execution_count": 1,
   "id": "49771302",
   "metadata": {},
   "outputs": [
    {
     "name": "stdout",
     "output_type": "stream",
     "text": [
      "a = 99\n",
      "b = 100\n"
     ]
    }
   ],
   "source": [
    "// ptr1.c\n",
    "\n",
    "#include <stdio.h>\n",
    "\n",
    "int main(void) {\n",
    "    int a = 99;\n",
    "    int *ptr = &a;        // ptr refers to a\n",
    "    int b = *ptr + 1      // b = a + 1\n",
    "        \n",
    "    printf(\"a = %d\\n\", a);\n",
    "    printf(\"b = %d\\n\", b);\n",
    "    \n",
    "    return 0;\n",
    "}"
   ]
  },
  {
   "cell_type": "markdown",
   "id": "fb769fe9",
   "metadata": {},
   "source": [
    "A value can be assigned to the object obtained via pointer dereferencing:"
   ]
  },
  {
   "cell_type": "code",
   "execution_count": 2,
   "id": "62907a25",
   "metadata": {},
   "outputs": [
    {
     "name": "stdout",
     "output_type": "stream",
     "text": [
      "a = -33\n"
     ]
    }
   ],
   "source": [
    "// ptr2.c \n",
    "\n",
    "#include <stdio.h>\n",
    "\n",
    "int main(void) {\n",
    "    int a = 99;\n",
    "    int *ptr = &a;        // ptr refers to a\n",
    "    *ptr = -33;           // assigns -33 to a\n",
    "        \n",
    "    printf(\"a = %d\\n\", a);\n",
    "    \n",
    "    return 0;\n",
    "}"
   ]
  },
  {
   "cell_type": "markdown",
   "id": "00f7a2c2",
   "metadata": {},
   "source": [
    "Undefined behavior results if a null pointer is dereferenced:"
   ]
  },
  {
   "cell_type": "code",
   "execution_count": 4,
   "id": "eab69441",
   "metadata": {},
   "outputs": [
    {
     "name": "stderr",
     "output_type": "stream",
     "text": [
      "[C kernel] Executable exited with code -11"
     ]
    }
   ],
   "source": [
    "// ptr3.c \n",
    "\n",
    "#include <stdio.h>\n",
    "\n",
    "int main(void) {\n",
    "    int *ptr = NULL;\n",
    "    *ptr = -33;           // oops, null pointer dereference\n",
    "        \n",
    "    printf(\"a = %d\\n\", *ptr);\n",
    "    \n",
    "    return 0;\n",
    "}"
   ]
  },
  {
   "cell_type": "markdown",
   "id": "061cf351",
   "metadata": {},
   "source": [
    "# Using pointers to solve a common programming problem\n",
    "\n",
    "A common programming problem is writing a function to change the value of one of its parameters. A simple\n",
    "example is a function that swaps the values its two parameters. A first attempt at such a function might\n",
    "look like so:"
   ]
  },
  {
   "cell_type": "code",
   "execution_count": 3,
   "id": "79cfac6d",
   "metadata": {},
   "outputs": [
    {
     "name": "stdout",
     "output_type": "stream",
     "text": [
      "before calling swap: a = 1.500000, b = 99.900000\n",
      "inside swap: x = 99.900000, y = 1.500000\n",
      "after calling swap: a = 1.500000, b = 99.900000\n"
     ]
    }
   ],
   "source": [
    "// badswap.c\n",
    "\n",
    "#include <stdio.h>\n",
    "\n",
    "void swap(double x, double y) {\n",
    "    double tmp = x;\n",
    "    x = y;\n",
    "    y = tmp;\n",
    "    printf(\"inside swap: x = %f, y = %f\\n\", x, y);\n",
    "}\n",
    "\n",
    "int main(void) {\n",
    "    double a = 1.5;\n",
    "    double b = 99.9;\n",
    "    \n",
    "    printf(\"before calling swap: a = %f, b = %f\\n\", a, b);\n",
    "    swap(a, b);\n",
    "    printf(\"after calling swap: a = %f, b = %f\\n\", a, b);\n",
    "    \n",
    "    return 0;\n",
    "}"
   ]
  },
  {
   "cell_type": "markdown",
   "id": "1968d9c2",
   "metadata": {},
   "source": [
    "Running the example above illustrates that the `swap` function manages to swap the values of the parameters\n",
    "`x` and `y` but does not swap the values of the arguments `a` and `b`. The reason this is occurs is because\n",
    "C uses pass-by-value to transfer the values of the arguments to the parameters of the function. In pass-by-value,\n",
    "the value of the arguments are copied into the parameters and the function manipulates the parameters. The values\n",
    "of the parameters are *not* copied back to the arguments at the end of the function.\n",
    "\n",
    "For `swap` to swap the values of the arguments, `swap` would need to receive the actual objects corresponding\n",
    "to the arguments. The solution in C is to pass a pointer to the objects that should be swapped:"
   ]
  },
  {
   "cell_type": "code",
   "execution_count": 4,
   "id": "d352507d",
   "metadata": {},
   "outputs": [
    {
     "name": "stdout",
     "output_type": "stream",
     "text": [
      "before calling swap: a = 1.500000, b = 99.900000\n",
      "inside swap: x = 99.900000, y = 1.500000\n",
      "after calling swap: a = 99.900000, b = 1.500000\n"
     ]
    }
   ],
   "source": [
    "// swap.c\n",
    "\n",
    "#include <stdio.h>\n",
    "\n",
    "void swap(double *x, double *y) {\n",
    "    double tmp = *x;    // tmp gets the value of the object pointed to by x\n",
    "    *x = *y;            // the object pointed to by x gets the value of the object pointed to by y\n",
    "    *y = tmp;           // the object pointed to by y gets the value of tmp\n",
    "    printf(\"inside swap: x = %f, y = %f\\n\", *x, *y);\n",
    "}\n",
    "\n",
    "int main(void) {\n",
    "    double a = 1.5;\n",
    "    double b = 99.9;\n",
    "    \n",
    "    printf(\"before calling swap: a = %f, b = %f\\n\", a, b);\n",
    "    swap(&a, &b);      // calls swap with the address of a and the address of b\n",
    "    printf(\"after calling swap: a = %f, b = %f\\n\", a, b);\n",
    "}"
   ]
  },
  {
   "cell_type": "markdown",
   "id": "065ff033",
   "metadata": {},
   "source": [
    "Another example of using a pointer as a function parameter is in a function that needs to return more than\n",
    "one value. For example, it is often useful to return the maximum value and the index of the maximum value\n",
    "when finding the maximum value in an array. One way to do so is to return one value using the return value\n",
    "and the second value is set by dereferencing a pointer passed in by the caller:"
   ]
  },
  {
   "cell_type": "code",
   "execution_count": 2,
   "id": "14a12fce",
   "metadata": {},
   "outputs": [
    {
     "name": "stdout",
     "output_type": "stream",
     "text": [
      "max = 9, index = 5\n"
     ]
    }
   ],
   "source": [
    "// max.c\n",
    "\n",
    "#include <stdio.h>\n",
    "\n",
    "// Returns the maximum value in the array a having count elements.\n",
    "// The index of the maximum element is stored in the object pointed at\n",
    "// by index.\n",
    "int max(int a[], size_t count, size_t *index) {\n",
    "    int hi = a[0];\n",
    "    size_t i_hi = 0;\n",
    "    for (size_t i = 1; i < count; i++) {\n",
    "        if (a[i] > hi) {\n",
    "            hi = a[i];\n",
    "            i_hi = i;\n",
    "        }\n",
    "    }\n",
    "    *index = i_hi;\n",
    "    return hi;\n",
    "}\n",
    "\n",
    "int main(void) {\n",
    "    int arr[] = { 6, 3, 1, 8, 7, 9, 4, 2, 5 };\n",
    "    \n",
    "    // must declare a variable to store the index in\n",
    "    size_t i;\n",
    "    int big = max(arr, 9, &i);\n",
    "    \n",
    "    printf(\"max = %d, index = %lu\\n\", big, i);\n",
    "    \n",
    "    return 0;\n",
    "}"
   ]
  },
  {
   "cell_type": "markdown",
   "id": "febd236f",
   "metadata": {},
   "source": [
    "A common mistake made by new C programmers when using a function such as `max` is to use a pointer that\n",
    "does not point at an actual object. In the example below, the programmer has used a pointer object as\n",
    "the argument to `max` instead of using the address of an object:"
   ]
  },
  {
   "cell_type": "code",
   "execution_count": 4,
   "id": "70d80c79",
   "metadata": {},
   "outputs": [
    {
     "name": "stderr",
     "output_type": "stream",
     "text": [
      "/tmp/tmp5calr9vw.c: In function ‘main’:\n",
      "/tmp/tmp5calr9vw.c:26:15: warning: ‘i’ is used uninitialized [-Wuninitialized]\n",
      "   26 |     int big = max(arr, 9, i);\n",
      "      |               ^~~~~~~~~~~~~~\n",
      "[C kernel] Executable exited with code -11"
     ]
    }
   ],
   "source": [
    "// bad_call_to_max.c\n",
    "\n",
    "#include <stdio.h>\n",
    "\n",
    "// Returns the maximum value in the array a having count elements.\n",
    "// The index of the maximum element is stored in the object pointed at\n",
    "// by index.\n",
    "int max(int a[], size_t count, size_t *index) {\n",
    "    int hi = a[0];\n",
    "    size_t i_hi = 0;\n",
    "    for (size_t i = 1; i < count; i++) {\n",
    "        if (a[i] > hi) {\n",
    "            hi = a[i];\n",
    "            i_hi = i;\n",
    "        }\n",
    "    }\n",
    "    *index = i_hi;\n",
    "    return hi;\n",
    "}\n",
    "\n",
    "int main(void) {\n",
    "    int arr[] = { 6, 3, 1, 8, 7, 9, 4, 2, 5 };\n",
    "    \n",
    "    // oops, i does not point at a size_t object\n",
    "    size_t *i;\n",
    "    int big = max(arr, 9, i);\n",
    "    \n",
    "    printf(\"max = %d, index = %lu\\n\", big, i);\n",
    "    \n",
    "    return 0;\n",
    "}"
   ]
  },
  {
   "cell_type": "markdown",
   "id": "a7ff5771",
   "metadata": {},
   "source": [
    "## Pointer arithmetic\n",
    "\n"
   ]
  },
  {
   "cell_type": "code",
   "execution_count": null,
   "id": "44a3422e",
   "metadata": {},
   "outputs": [],
   "source": []
  }
 ],
 "metadata": {
  "kernelspec": {
   "display_name": "C",
   "language": "c",
   "name": "c"
  },
  "language_info": {
   "file_extension": ".c",
   "mimetype": "text/x-csrc",
   "name": "text/x-csrc"
  }
 },
 "nbformat": 4,
 "nbformat_minor": 5
}
